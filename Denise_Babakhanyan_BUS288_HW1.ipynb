{
  "nbformat": 4,
  "nbformat_minor": 0,
  "metadata": {
    "colab": {
      "provenance": []
    },
    "kernelspec": {
      "name": "python3",
      "display_name": "Python 3"
    }
  },
  "cells": [
    {
      "cell_type": "code",
      "metadata": {
        "id": "3peZHMZpsp7l"
      },
      "source": [
        "# Importing necessary packages.\n",
        "import pandas as pd\n",
        "import matplotlib.pyplot as plt\n",
        "import numpy as np\n",
        "from statsmodels.formula.api import ols\n",
        "import statsmodels.api as sm\n",
        "from scipy import stats\n",
        "from sklearn.metrics import r2_score\n",
        "from sklearn.model_selection import train_test_split\n",
        "from statsmodels.api import qqplot\n",
        "from scipy.stats import shapiro,ttest_ind\n",
        "from statsmodels.stats.diagnostic import het_breuschpagan,linear_rainbow\n",
        "from sklearn import linear_model\n",
        "from statsmodels.stats.outliers_influence import variance_inflation_factor"
      ],
      "execution_count": null,
      "outputs": []
    },
    {
      "cell_type": "code",
      "metadata": {
        "colab": {
          "base_uri": "https://localhost:8080/"
        },
        "id": "tqFnev97tZpT",
        "outputId": "d3ba723f-1654-4f56-b701-3507e59dd605"
      },
      "source": [
        "# Reading an Excel file.\n",
        "file_name = \"Student_data.xlsx\"\n",
        "df = pd.read_excel(file_name)\n",
        "df.info()"
      ],
      "execution_count": null,
      "outputs": [
        {
          "output_type": "stream",
          "text": [
            "<class 'pandas.core.frame.DataFrame'>\n",
            "RangeIndex: 395 entries, 0 to 394\n",
            "Data columns (total 32 columns):\n",
            " #   Column       Non-Null Count  Dtype \n",
            "---  ------       --------------  ----- \n",
            " 0   StudentID    395 non-null    int64 \n",
            " 1   school2      395 non-null    object\n",
            " 2   sex          395 non-null    object\n",
            " 3   age          395 non-null    int64 \n",
            " 4   address      395 non-null    object\n",
            " 5   famsize      395 non-null    object\n",
            " 6   Pstatus      395 non-null    object\n",
            " 7   Medu         395 non-null    int64 \n",
            " 8   Fedu         395 non-null    int64 \n",
            " 9   Mjob         395 non-null    object\n",
            " 10  Fjob         395 non-null    object\n",
            " 11  reason       395 non-null    object\n",
            " 12  guardian     395 non-null    object\n",
            " 13  traveltime   395 non-null    int64 \n",
            " 14  studytime    395 non-null    int64 \n",
            " 15  failures     395 non-null    int64 \n",
            " 16  schoolsup    395 non-null    object\n",
            " 17  famsup       395 non-null    object\n",
            " 18  paid         395 non-null    object\n",
            " 19  activities   395 non-null    object\n",
            " 20  nursery      395 non-null    object\n",
            " 21  higher       395 non-null    object\n",
            " 22  internet     395 non-null    object\n",
            " 23  romantic     395 non-null    object\n",
            " 24  famrel       395 non-null    int64 \n",
            " 25  freetime     395 non-null    int64 \n",
            " 26  goout        395 non-null    int64 \n",
            " 27  Dalc         395 non-null    int64 \n",
            " 28  Walc         395 non-null    int64 \n",
            " 29  health       395 non-null    int64 \n",
            " 30  absences     395 non-null    int64 \n",
            " 31  Final_Grade  395 non-null    int64 \n",
            "dtypes: int64(15), object(17)\n",
            "memory usage: 98.9+ KB\n"
          ],
          "name": "stdout"
        }
      ]
    },
    {
      "cell_type": "markdown",
      "metadata": {
        "id": "-U2p4Wx4v6e8"
      },
      "source": [
        "**1. Choose all or several variables which you hypothesize to affect the student’s final grade.**"
      ]
    },
    {
      "cell_type": "markdown",
      "metadata": {
        "id": "R4RX08IT2z-1"
      },
      "source": [
        "I hypothesized that the following variables may affect the final grade: *school2*, *sex*, *age*, *address*, *famsize*, *Pstatus*, *studytime*, *failures*, *schoolsup*,*famsup*, *paid*, *activities*, *higher*, *internet*, *romantic*, *famrel*, *freetime*, *goout*, *Dalc*, *Walc*, *health*, *absences*."
      ]
    },
    {
      "cell_type": "code",
      "metadata": {
        "id": "-aROZI8MrB3M"
      },
      "source": [
        "data = df[[\"school2\", \"sex\", \"age\", \"address\", \"famsize\", \"Pstatus\", \"studytime\", \"failures\", \"schoolsup\", \"famsup\", \"paid\", \"higher\", \"internet\", \"romantic\", \"famrel\", \"freetime\", \"goout\", \"Dalc\", \"Walc\", \"health\", \"absences\", \"Final_Grade\"]]"
      ],
      "execution_count": null,
      "outputs": []
    },
    {
      "cell_type": "code",
      "metadata": {
        "colab": {
          "base_uri": "https://localhost:8080/",
          "height": 224
        },
        "id": "4EbyFH_3upmo",
        "outputId": "3e037853-d3de-4307-cb49-89b2c388c13c"
      },
      "source": [
        "data.head()"
      ],
      "execution_count": null,
      "outputs": [
        {
          "output_type": "execute_result",
          "data": {
            "text/html": [
              "<div>\n",
              "<style scoped>\n",
              "    .dataframe tbody tr th:only-of-type {\n",
              "        vertical-align: middle;\n",
              "    }\n",
              "\n",
              "    .dataframe tbody tr th {\n",
              "        vertical-align: top;\n",
              "    }\n",
              "\n",
              "    .dataframe thead th {\n",
              "        text-align: right;\n",
              "    }\n",
              "</style>\n",
              "<table border=\"1\" class=\"dataframe\">\n",
              "  <thead>\n",
              "    <tr style=\"text-align: right;\">\n",
              "      <th></th>\n",
              "      <th>school2</th>\n",
              "      <th>sex</th>\n",
              "      <th>age</th>\n",
              "      <th>address</th>\n",
              "      <th>famsize</th>\n",
              "      <th>Pstatus</th>\n",
              "      <th>studytime</th>\n",
              "      <th>failures</th>\n",
              "      <th>schoolsup</th>\n",
              "      <th>famsup</th>\n",
              "      <th>paid</th>\n",
              "      <th>higher</th>\n",
              "      <th>internet</th>\n",
              "      <th>romantic</th>\n",
              "      <th>famrel</th>\n",
              "      <th>freetime</th>\n",
              "      <th>goout</th>\n",
              "      <th>Dalc</th>\n",
              "      <th>Walc</th>\n",
              "      <th>health</th>\n",
              "      <th>absences</th>\n",
              "      <th>Final_Grade</th>\n",
              "    </tr>\n",
              "  </thead>\n",
              "  <tbody>\n",
              "    <tr>\n",
              "      <th>0</th>\n",
              "      <td>GP</td>\n",
              "      <td>F</td>\n",
              "      <td>18</td>\n",
              "      <td>U</td>\n",
              "      <td>GT3</td>\n",
              "      <td>A</td>\n",
              "      <td>2</td>\n",
              "      <td>0</td>\n",
              "      <td>yes</td>\n",
              "      <td>no</td>\n",
              "      <td>no</td>\n",
              "      <td>yes</td>\n",
              "      <td>no</td>\n",
              "      <td>no</td>\n",
              "      <td>4</td>\n",
              "      <td>3</td>\n",
              "      <td>4</td>\n",
              "      <td>1</td>\n",
              "      <td>1</td>\n",
              "      <td>3</td>\n",
              "      <td>6</td>\n",
              "      <td>6</td>\n",
              "    </tr>\n",
              "    <tr>\n",
              "      <th>1</th>\n",
              "      <td>GP</td>\n",
              "      <td>F</td>\n",
              "      <td>17</td>\n",
              "      <td>U</td>\n",
              "      <td>GT3</td>\n",
              "      <td>T</td>\n",
              "      <td>2</td>\n",
              "      <td>0</td>\n",
              "      <td>no</td>\n",
              "      <td>yes</td>\n",
              "      <td>no</td>\n",
              "      <td>yes</td>\n",
              "      <td>yes</td>\n",
              "      <td>no</td>\n",
              "      <td>5</td>\n",
              "      <td>3</td>\n",
              "      <td>3</td>\n",
              "      <td>1</td>\n",
              "      <td>1</td>\n",
              "      <td>3</td>\n",
              "      <td>4</td>\n",
              "      <td>6</td>\n",
              "    </tr>\n",
              "    <tr>\n",
              "      <th>2</th>\n",
              "      <td>GP</td>\n",
              "      <td>F</td>\n",
              "      <td>15</td>\n",
              "      <td>U</td>\n",
              "      <td>LE3</td>\n",
              "      <td>T</td>\n",
              "      <td>2</td>\n",
              "      <td>3</td>\n",
              "      <td>yes</td>\n",
              "      <td>no</td>\n",
              "      <td>yes</td>\n",
              "      <td>yes</td>\n",
              "      <td>yes</td>\n",
              "      <td>no</td>\n",
              "      <td>4</td>\n",
              "      <td>3</td>\n",
              "      <td>2</td>\n",
              "      <td>2</td>\n",
              "      <td>3</td>\n",
              "      <td>3</td>\n",
              "      <td>10</td>\n",
              "      <td>10</td>\n",
              "    </tr>\n",
              "    <tr>\n",
              "      <th>3</th>\n",
              "      <td>GP</td>\n",
              "      <td>F</td>\n",
              "      <td>15</td>\n",
              "      <td>U</td>\n",
              "      <td>GT3</td>\n",
              "      <td>T</td>\n",
              "      <td>3</td>\n",
              "      <td>0</td>\n",
              "      <td>no</td>\n",
              "      <td>yes</td>\n",
              "      <td>yes</td>\n",
              "      <td>yes</td>\n",
              "      <td>yes</td>\n",
              "      <td>yes</td>\n",
              "      <td>3</td>\n",
              "      <td>2</td>\n",
              "      <td>2</td>\n",
              "      <td>1</td>\n",
              "      <td>1</td>\n",
              "      <td>5</td>\n",
              "      <td>2</td>\n",
              "      <td>15</td>\n",
              "    </tr>\n",
              "    <tr>\n",
              "      <th>4</th>\n",
              "      <td>GP</td>\n",
              "      <td>F</td>\n",
              "      <td>16</td>\n",
              "      <td>U</td>\n",
              "      <td>GT3</td>\n",
              "      <td>T</td>\n",
              "      <td>2</td>\n",
              "      <td>0</td>\n",
              "      <td>no</td>\n",
              "      <td>yes</td>\n",
              "      <td>yes</td>\n",
              "      <td>yes</td>\n",
              "      <td>no</td>\n",
              "      <td>no</td>\n",
              "      <td>4</td>\n",
              "      <td>3</td>\n",
              "      <td>2</td>\n",
              "      <td>1</td>\n",
              "      <td>2</td>\n",
              "      <td>5</td>\n",
              "      <td>4</td>\n",
              "      <td>10</td>\n",
              "    </tr>\n",
              "  </tbody>\n",
              "</table>\n",
              "</div>"
            ],
            "text/plain": [
              "  school2 sex  age address famsize  ... Dalc  Walc  health absences Final_Grade\n",
              "0      GP   F   18       U     GT3  ...    1     1       3        6           6\n",
              "1      GP   F   17       U     GT3  ...    1     1       3        4           6\n",
              "2      GP   F   15       U     LE3  ...    2     3       3       10          10\n",
              "3      GP   F   15       U     GT3  ...    1     1       5        2          15\n",
              "4      GP   F   16       U     GT3  ...    1     2       5        4          10\n",
              "\n",
              "[5 rows x 22 columns]"
            ]
          },
          "metadata": {
            "tags": []
          },
          "execution_count": 47
        }
      ]
    },
    {
      "cell_type": "code",
      "metadata": {
        "id": "zW47FSBVtzR9"
      },
      "source": [
        "# Separating data into numeric and object parts.\n",
        "data_num = data.select_dtypes(exclude=[\"object\"])\n",
        "data_obj = data.select_dtypes(include=\"object\")"
      ],
      "execution_count": null,
      "outputs": []
    },
    {
      "cell_type": "code",
      "metadata": {
        "colab": {
          "base_uri": "https://localhost:8080/",
          "height": 204
        },
        "id": "70Gn7-53uhwf",
        "outputId": "a4842e43-6e55-4a91-bea5-f27273e4491a"
      },
      "source": [
        "# Transforming object variables into dummy.\n",
        "data_dummies = pd.get_dummies(data_obj, drop_first=True)\n",
        "data_dummies.head()"
      ],
      "execution_count": null,
      "outputs": [
        {
          "output_type": "execute_result",
          "data": {
            "text/html": [
              "<div>\n",
              "<style scoped>\n",
              "    .dataframe tbody tr th:only-of-type {\n",
              "        vertical-align: middle;\n",
              "    }\n",
              "\n",
              "    .dataframe tbody tr th {\n",
              "        vertical-align: top;\n",
              "    }\n",
              "\n",
              "    .dataframe thead th {\n",
              "        text-align: right;\n",
              "    }\n",
              "</style>\n",
              "<table border=\"1\" class=\"dataframe\">\n",
              "  <thead>\n",
              "    <tr style=\"text-align: right;\">\n",
              "      <th></th>\n",
              "      <th>school2_MS</th>\n",
              "      <th>sex_M</th>\n",
              "      <th>address_U</th>\n",
              "      <th>famsize_LE3</th>\n",
              "      <th>Pstatus_T</th>\n",
              "      <th>schoolsup_yes</th>\n",
              "      <th>famsup_yes</th>\n",
              "      <th>paid_yes</th>\n",
              "      <th>higher_yes</th>\n",
              "      <th>internet_yes</th>\n",
              "      <th>romantic_yes</th>\n",
              "    </tr>\n",
              "  </thead>\n",
              "  <tbody>\n",
              "    <tr>\n",
              "      <th>0</th>\n",
              "      <td>0</td>\n",
              "      <td>0</td>\n",
              "      <td>1</td>\n",
              "      <td>0</td>\n",
              "      <td>0</td>\n",
              "      <td>1</td>\n",
              "      <td>0</td>\n",
              "      <td>0</td>\n",
              "      <td>1</td>\n",
              "      <td>0</td>\n",
              "      <td>0</td>\n",
              "    </tr>\n",
              "    <tr>\n",
              "      <th>1</th>\n",
              "      <td>0</td>\n",
              "      <td>0</td>\n",
              "      <td>1</td>\n",
              "      <td>0</td>\n",
              "      <td>1</td>\n",
              "      <td>0</td>\n",
              "      <td>1</td>\n",
              "      <td>0</td>\n",
              "      <td>1</td>\n",
              "      <td>1</td>\n",
              "      <td>0</td>\n",
              "    </tr>\n",
              "    <tr>\n",
              "      <th>2</th>\n",
              "      <td>0</td>\n",
              "      <td>0</td>\n",
              "      <td>1</td>\n",
              "      <td>1</td>\n",
              "      <td>1</td>\n",
              "      <td>1</td>\n",
              "      <td>0</td>\n",
              "      <td>1</td>\n",
              "      <td>1</td>\n",
              "      <td>1</td>\n",
              "      <td>0</td>\n",
              "    </tr>\n",
              "    <tr>\n",
              "      <th>3</th>\n",
              "      <td>0</td>\n",
              "      <td>0</td>\n",
              "      <td>1</td>\n",
              "      <td>0</td>\n",
              "      <td>1</td>\n",
              "      <td>0</td>\n",
              "      <td>1</td>\n",
              "      <td>1</td>\n",
              "      <td>1</td>\n",
              "      <td>1</td>\n",
              "      <td>1</td>\n",
              "    </tr>\n",
              "    <tr>\n",
              "      <th>4</th>\n",
              "      <td>0</td>\n",
              "      <td>0</td>\n",
              "      <td>1</td>\n",
              "      <td>0</td>\n",
              "      <td>1</td>\n",
              "      <td>0</td>\n",
              "      <td>1</td>\n",
              "      <td>1</td>\n",
              "      <td>1</td>\n",
              "      <td>0</td>\n",
              "      <td>0</td>\n",
              "    </tr>\n",
              "  </tbody>\n",
              "</table>\n",
              "</div>"
            ],
            "text/plain": [
              "   school2_MS  sex_M  address_U  ...  higher_yes  internet_yes  romantic_yes\n",
              "0           0      0          1  ...           1             0             0\n",
              "1           0      0          1  ...           1             1             0\n",
              "2           0      0          1  ...           1             1             0\n",
              "3           0      0          1  ...           1             1             1\n",
              "4           0      0          1  ...           1             0             0\n",
              "\n",
              "[5 rows x 11 columns]"
            ]
          },
          "metadata": {
            "tags": []
          },
          "execution_count": 88
        }
      ]
    },
    {
      "cell_type": "code",
      "metadata": {
        "colab": {
          "base_uri": "https://localhost:8080/",
          "height": 224
        },
        "id": "n4XMnvLmvr_B",
        "outputId": "e9375097-e356-4719-a53f-2d2f5801a93e"
      },
      "source": [
        "data_model = data_num.join(data_dummies, how='left')\n",
        "data_model.head()"
      ],
      "execution_count": null,
      "outputs": [
        {
          "output_type": "execute_result",
          "data": {
            "text/html": [
              "<div>\n",
              "<style scoped>\n",
              "    .dataframe tbody tr th:only-of-type {\n",
              "        vertical-align: middle;\n",
              "    }\n",
              "\n",
              "    .dataframe tbody tr th {\n",
              "        vertical-align: top;\n",
              "    }\n",
              "\n",
              "    .dataframe thead th {\n",
              "        text-align: right;\n",
              "    }\n",
              "</style>\n",
              "<table border=\"1\" class=\"dataframe\">\n",
              "  <thead>\n",
              "    <tr style=\"text-align: right;\">\n",
              "      <th></th>\n",
              "      <th>age</th>\n",
              "      <th>studytime</th>\n",
              "      <th>failures</th>\n",
              "      <th>famrel</th>\n",
              "      <th>freetime</th>\n",
              "      <th>goout</th>\n",
              "      <th>Dalc</th>\n",
              "      <th>Walc</th>\n",
              "      <th>health</th>\n",
              "      <th>absences</th>\n",
              "      <th>Final_Grade</th>\n",
              "      <th>school2_MS</th>\n",
              "      <th>sex_M</th>\n",
              "      <th>address_U</th>\n",
              "      <th>famsize_LE3</th>\n",
              "      <th>Pstatus_T</th>\n",
              "      <th>schoolsup_yes</th>\n",
              "      <th>famsup_yes</th>\n",
              "      <th>paid_yes</th>\n",
              "      <th>higher_yes</th>\n",
              "      <th>internet_yes</th>\n",
              "      <th>romantic_yes</th>\n",
              "    </tr>\n",
              "  </thead>\n",
              "  <tbody>\n",
              "    <tr>\n",
              "      <th>0</th>\n",
              "      <td>18</td>\n",
              "      <td>2</td>\n",
              "      <td>0</td>\n",
              "      <td>4</td>\n",
              "      <td>3</td>\n",
              "      <td>4</td>\n",
              "      <td>1</td>\n",
              "      <td>1</td>\n",
              "      <td>3</td>\n",
              "      <td>6</td>\n",
              "      <td>6</td>\n",
              "      <td>0</td>\n",
              "      <td>0</td>\n",
              "      <td>1</td>\n",
              "      <td>0</td>\n",
              "      <td>0</td>\n",
              "      <td>1</td>\n",
              "      <td>0</td>\n",
              "      <td>0</td>\n",
              "      <td>1</td>\n",
              "      <td>0</td>\n",
              "      <td>0</td>\n",
              "    </tr>\n",
              "    <tr>\n",
              "      <th>1</th>\n",
              "      <td>17</td>\n",
              "      <td>2</td>\n",
              "      <td>0</td>\n",
              "      <td>5</td>\n",
              "      <td>3</td>\n",
              "      <td>3</td>\n",
              "      <td>1</td>\n",
              "      <td>1</td>\n",
              "      <td>3</td>\n",
              "      <td>4</td>\n",
              "      <td>6</td>\n",
              "      <td>0</td>\n",
              "      <td>0</td>\n",
              "      <td>1</td>\n",
              "      <td>0</td>\n",
              "      <td>1</td>\n",
              "      <td>0</td>\n",
              "      <td>1</td>\n",
              "      <td>0</td>\n",
              "      <td>1</td>\n",
              "      <td>1</td>\n",
              "      <td>0</td>\n",
              "    </tr>\n",
              "    <tr>\n",
              "      <th>2</th>\n",
              "      <td>15</td>\n",
              "      <td>2</td>\n",
              "      <td>3</td>\n",
              "      <td>4</td>\n",
              "      <td>3</td>\n",
              "      <td>2</td>\n",
              "      <td>2</td>\n",
              "      <td>3</td>\n",
              "      <td>3</td>\n",
              "      <td>10</td>\n",
              "      <td>10</td>\n",
              "      <td>0</td>\n",
              "      <td>0</td>\n",
              "      <td>1</td>\n",
              "      <td>1</td>\n",
              "      <td>1</td>\n",
              "      <td>1</td>\n",
              "      <td>0</td>\n",
              "      <td>1</td>\n",
              "      <td>1</td>\n",
              "      <td>1</td>\n",
              "      <td>0</td>\n",
              "    </tr>\n",
              "    <tr>\n",
              "      <th>3</th>\n",
              "      <td>15</td>\n",
              "      <td>3</td>\n",
              "      <td>0</td>\n",
              "      <td>3</td>\n",
              "      <td>2</td>\n",
              "      <td>2</td>\n",
              "      <td>1</td>\n",
              "      <td>1</td>\n",
              "      <td>5</td>\n",
              "      <td>2</td>\n",
              "      <td>15</td>\n",
              "      <td>0</td>\n",
              "      <td>0</td>\n",
              "      <td>1</td>\n",
              "      <td>0</td>\n",
              "      <td>1</td>\n",
              "      <td>0</td>\n",
              "      <td>1</td>\n",
              "      <td>1</td>\n",
              "      <td>1</td>\n",
              "      <td>1</td>\n",
              "      <td>1</td>\n",
              "    </tr>\n",
              "    <tr>\n",
              "      <th>4</th>\n",
              "      <td>16</td>\n",
              "      <td>2</td>\n",
              "      <td>0</td>\n",
              "      <td>4</td>\n",
              "      <td>3</td>\n",
              "      <td>2</td>\n",
              "      <td>1</td>\n",
              "      <td>2</td>\n",
              "      <td>5</td>\n",
              "      <td>4</td>\n",
              "      <td>10</td>\n",
              "      <td>0</td>\n",
              "      <td>0</td>\n",
              "      <td>1</td>\n",
              "      <td>0</td>\n",
              "      <td>1</td>\n",
              "      <td>0</td>\n",
              "      <td>1</td>\n",
              "      <td>1</td>\n",
              "      <td>1</td>\n",
              "      <td>0</td>\n",
              "      <td>0</td>\n",
              "    </tr>\n",
              "  </tbody>\n",
              "</table>\n",
              "</div>"
            ],
            "text/plain": [
              "   age  studytime  failures  ...  higher_yes  internet_yes  romantic_yes\n",
              "0   18          2         0  ...           1             0             0\n",
              "1   17          2         0  ...           1             1             0\n",
              "2   15          2         3  ...           1             1             0\n",
              "3   15          3         0  ...           1             1             1\n",
              "4   16          2         0  ...           1             0             0\n",
              "\n",
              "[5 rows x 22 columns]"
            ]
          },
          "metadata": {
            "tags": []
          },
          "execution_count": 89
        }
      ]
    },
    {
      "cell_type": "code",
      "metadata": {
        "id": "lScPDigH2ce6"
      },
      "source": [
        "Y = data_model.Final_Grade\n",
        "X = data_model.drop('Final_Grade', axis = 1)\n",
        "X = sm.add_constant(X)"
      ],
      "execution_count": null,
      "outputs": []
    },
    {
      "cell_type": "code",
      "metadata": {
        "id": "Rbliq_rl2vwg"
      },
      "source": [
        "# Train-test split data.\n",
        "X0, X1, Y0, Y1 = train_test_split(X, Y, test_size=0.25, random_state=42)"
      ],
      "execution_count": null,
      "outputs": []
    },
    {
      "cell_type": "code",
      "metadata": {
        "colab": {
          "base_uri": "https://localhost:8080/",
          "height": 864
        },
        "id": "5cZucDoR2zJI",
        "outputId": "867cba6c-eeb5-4404-c337-7110cc60b692"
      },
      "source": [
        "# Running the linear regression.\n",
        "model_linear = sm.OLS(Y0, X0)\n",
        "results = model_linear.fit()\n",
        "results.summary()"
      ],
      "execution_count": null,
      "outputs": [
        {
          "output_type": "execute_result",
          "data": {
            "text/html": [
              "<table class=\"simpletable\">\n",
              "<caption>OLS Regression Results</caption>\n",
              "<tr>\n",
              "  <th>Dep. Variable:</th>       <td>Final_Grade</td>   <th>  R-squared:         </th> <td>   0.229</td>\n",
              "</tr>\n",
              "<tr>\n",
              "  <th>Model:</th>                   <td>OLS</td>       <th>  Adj. R-squared:    </th> <td>   0.170</td>\n",
              "</tr>\n",
              "<tr>\n",
              "  <th>Method:</th>             <td>Least Squares</td>  <th>  F-statistic:       </th> <td>   3.868</td>\n",
              "</tr>\n",
              "<tr>\n",
              "  <th>Date:</th>             <td>Tue, 16 Mar 2021</td> <th>  Prob (F-statistic):</th> <td>9.43e-08</td>\n",
              "</tr>\n",
              "<tr>\n",
              "  <th>Time:</th>                 <td>13:52:12</td>     <th>  Log-Likelihood:    </th> <td> -826.64</td>\n",
              "</tr>\n",
              "<tr>\n",
              "  <th>No. Observations:</th>      <td>   296</td>      <th>  AIC:               </th> <td>   1697.</td>\n",
              "</tr>\n",
              "<tr>\n",
              "  <th>Df Residuals:</th>          <td>   274</td>      <th>  BIC:               </th> <td>   1778.</td>\n",
              "</tr>\n",
              "<tr>\n",
              "  <th>Df Model:</th>              <td>    21</td>      <th>                     </th>     <td> </td>   \n",
              "</tr>\n",
              "<tr>\n",
              "  <th>Covariance Type:</th>      <td>nonrobust</td>    <th>                     </th>     <td> </td>   \n",
              "</tr>\n",
              "</table>\n",
              "<table class=\"simpletable\">\n",
              "<tr>\n",
              "        <td></td>           <th>coef</th>     <th>std err</th>      <th>t</th>      <th>P>|t|</th>  <th>[0.025</th>    <th>0.975]</th>  \n",
              "</tr>\n",
              "<tr>\n",
              "  <th>const</th>         <td>   13.1821</td> <td>    4.393</td> <td>    3.000</td> <td> 0.003</td> <td>    4.533</td> <td>   21.831</td>\n",
              "</tr>\n",
              "<tr>\n",
              "  <th>age</th>           <td>   -0.3358</td> <td>    0.227</td> <td>   -1.480</td> <td> 0.140</td> <td>   -0.783</td> <td>    0.111</td>\n",
              "</tr>\n",
              "<tr>\n",
              "  <th>studytime</th>     <td>    0.5697</td> <td>    0.328</td> <td>    1.738</td> <td> 0.083</td> <td>   -0.076</td> <td>    1.215</td>\n",
              "</tr>\n",
              "<tr>\n",
              "  <th>failures</th>      <td>   -1.6025</td> <td>    0.359</td> <td>   -4.459</td> <td> 0.000</td> <td>   -2.310</td> <td>   -0.895</td>\n",
              "</tr>\n",
              "<tr>\n",
              "  <th>famrel</th>        <td>    0.2884</td> <td>    0.288</td> <td>    1.002</td> <td> 0.317</td> <td>   -0.278</td> <td>    0.855</td>\n",
              "</tr>\n",
              "<tr>\n",
              "  <th>freetime</th>      <td>    0.1962</td> <td>    0.261</td> <td>    0.752</td> <td> 0.453</td> <td>   -0.317</td> <td>    0.710</td>\n",
              "</tr>\n",
              "<tr>\n",
              "  <th>goout</th>         <td>   -0.4934</td> <td>    0.259</td> <td>   -1.907</td> <td> 0.058</td> <td>   -1.003</td> <td>    0.016</td>\n",
              "</tr>\n",
              "<tr>\n",
              "  <th>Dalc</th>          <td>   -0.1604</td> <td>    0.352</td> <td>   -0.455</td> <td> 0.649</td> <td>   -0.854</td> <td>    0.533</td>\n",
              "</tr>\n",
              "<tr>\n",
              "  <th>Walc</th>          <td>    0.0907</td> <td>    0.277</td> <td>    0.328</td> <td> 0.743</td> <td>   -0.454</td> <td>    0.636</td>\n",
              "</tr>\n",
              "<tr>\n",
              "  <th>health</th>        <td>   -0.1439</td> <td>    0.176</td> <td>   -0.816</td> <td> 0.415</td> <td>   -0.491</td> <td>    0.203</td>\n",
              "</tr>\n",
              "<tr>\n",
              "  <th>absences</th>      <td>    0.0592</td> <td>    0.031</td> <td>    1.931</td> <td> 0.055</td> <td>   -0.001</td> <td>    0.120</td>\n",
              "</tr>\n",
              "<tr>\n",
              "  <th>school2_MS</th>    <td>    0.7497</td> <td>    0.888</td> <td>    0.844</td> <td> 0.400</td> <td>   -0.999</td> <td>    2.499</td>\n",
              "</tr>\n",
              "<tr>\n",
              "  <th>sex_M</th>         <td>    1.1164</td> <td>    0.570</td> <td>    1.960</td> <td> 0.051</td> <td>   -0.005</td> <td>    2.238</td>\n",
              "</tr>\n",
              "<tr>\n",
              "  <th>address_U</th>     <td>    0.5343</td> <td>    0.631</td> <td>    0.847</td> <td> 0.398</td> <td>   -0.708</td> <td>    1.777</td>\n",
              "</tr>\n",
              "<tr>\n",
              "  <th>famsize_LE3</th>   <td>    0.3198</td> <td>    0.545</td> <td>    0.587</td> <td> 0.558</td> <td>   -0.752</td> <td>    1.392</td>\n",
              "</tr>\n",
              "<tr>\n",
              "  <th>Pstatus_T</th>     <td>   -0.9417</td> <td>    0.826</td> <td>   -1.140</td> <td> 0.255</td> <td>   -2.569</td> <td>    0.685</td>\n",
              "</tr>\n",
              "<tr>\n",
              "  <th>schoolsup_yes</th> <td>   -0.9715</td> <td>    0.726</td> <td>   -1.337</td> <td> 0.182</td> <td>   -2.401</td> <td>    0.458</td>\n",
              "</tr>\n",
              "<tr>\n",
              "  <th>famsup_yes</th>    <td>   -0.9580</td> <td>    0.539</td> <td>   -1.777</td> <td> 0.077</td> <td>   -2.019</td> <td>    0.103</td>\n",
              "</tr>\n",
              "<tr>\n",
              "  <th>paid_yes</th>      <td>    0.9968</td> <td>    0.540</td> <td>    1.847</td> <td> 0.066</td> <td>   -0.066</td> <td>    2.059</td>\n",
              "</tr>\n",
              "<tr>\n",
              "  <th>higher_yes</th>    <td>    1.9324</td> <td>    1.121</td> <td>    1.723</td> <td> 0.086</td> <td>   -0.275</td> <td>    4.140</td>\n",
              "</tr>\n",
              "<tr>\n",
              "  <th>internet_yes</th>  <td>    0.7618</td> <td>    0.693</td> <td>    1.098</td> <td> 0.273</td> <td>   -0.603</td> <td>    2.127</td>\n",
              "</tr>\n",
              "<tr>\n",
              "  <th>romantic_yes</th>  <td>   -0.7966</td> <td>    0.532</td> <td>   -1.499</td> <td> 0.135</td> <td>   -1.843</td> <td>    0.250</td>\n",
              "</tr>\n",
              "</table>\n",
              "<table class=\"simpletable\">\n",
              "<tr>\n",
              "  <th>Omnibus:</th>       <td>21.765</td> <th>  Durbin-Watson:     </th> <td>   1.928</td>\n",
              "</tr>\n",
              "<tr>\n",
              "  <th>Prob(Omnibus):</th> <td> 0.000</td> <th>  Jarque-Bera (JB):  </th> <td>  24.616</td>\n",
              "</tr>\n",
              "<tr>\n",
              "  <th>Skew:</th>          <td>-0.644</td> <th>  Prob(JB):          </th> <td>4.52e-06</td>\n",
              "</tr>\n",
              "<tr>\n",
              "  <th>Kurtosis:</th>      <td> 3.580</td> <th>  Cond. No.          </th> <td>    368.</td>\n",
              "</tr>\n",
              "</table><br/><br/>Warnings:<br/>[1] Standard Errors assume that the covariance matrix of the errors is correctly specified."
            ],
            "text/plain": [
              "<class 'statsmodels.iolib.summary.Summary'>\n",
              "\"\"\"\n",
              "                            OLS Regression Results                            \n",
              "==============================================================================\n",
              "Dep. Variable:            Final_Grade   R-squared:                       0.229\n",
              "Model:                            OLS   Adj. R-squared:                  0.170\n",
              "Method:                 Least Squares   F-statistic:                     3.868\n",
              "Date:                Tue, 16 Mar 2021   Prob (F-statistic):           9.43e-08\n",
              "Time:                        13:52:12   Log-Likelihood:                -826.64\n",
              "No. Observations:                 296   AIC:                             1697.\n",
              "Df Residuals:                     274   BIC:                             1778.\n",
              "Df Model:                          21                                         \n",
              "Covariance Type:            nonrobust                                         \n",
              "=================================================================================\n",
              "                    coef    std err          t      P>|t|      [0.025      0.975]\n",
              "---------------------------------------------------------------------------------\n",
              "const            13.1821      4.393      3.000      0.003       4.533      21.831\n",
              "age              -0.3358      0.227     -1.480      0.140      -0.783       0.111\n",
              "studytime         0.5697      0.328      1.738      0.083      -0.076       1.215\n",
              "failures         -1.6025      0.359     -4.459      0.000      -2.310      -0.895\n",
              "famrel            0.2884      0.288      1.002      0.317      -0.278       0.855\n",
              "freetime          0.1962      0.261      0.752      0.453      -0.317       0.710\n",
              "goout            -0.4934      0.259     -1.907      0.058      -1.003       0.016\n",
              "Dalc             -0.1604      0.352     -0.455      0.649      -0.854       0.533\n",
              "Walc              0.0907      0.277      0.328      0.743      -0.454       0.636\n",
              "health           -0.1439      0.176     -0.816      0.415      -0.491       0.203\n",
              "absences          0.0592      0.031      1.931      0.055      -0.001       0.120\n",
              "school2_MS        0.7497      0.888      0.844      0.400      -0.999       2.499\n",
              "sex_M             1.1164      0.570      1.960      0.051      -0.005       2.238\n",
              "address_U         0.5343      0.631      0.847      0.398      -0.708       1.777\n",
              "famsize_LE3       0.3198      0.545      0.587      0.558      -0.752       1.392\n",
              "Pstatus_T        -0.9417      0.826     -1.140      0.255      -2.569       0.685\n",
              "schoolsup_yes    -0.9715      0.726     -1.337      0.182      -2.401       0.458\n",
              "famsup_yes       -0.9580      0.539     -1.777      0.077      -2.019       0.103\n",
              "paid_yes          0.9968      0.540      1.847      0.066      -0.066       2.059\n",
              "higher_yes        1.9324      1.121      1.723      0.086      -0.275       4.140\n",
              "internet_yes      0.7618      0.693      1.098      0.273      -0.603       2.127\n",
              "romantic_yes     -0.7966      0.532     -1.499      0.135      -1.843       0.250\n",
              "==============================================================================\n",
              "Omnibus:                       21.765   Durbin-Watson:                   1.928\n",
              "Prob(Omnibus):                  0.000   Jarque-Bera (JB):               24.616\n",
              "Skew:                          -0.644   Prob(JB):                     4.52e-06\n",
              "Kurtosis:                       3.580   Cond. No.                         368.\n",
              "==============================================================================\n",
              "\n",
              "Warnings:\n",
              "[1] Standard Errors assume that the covariance matrix of the errors is correctly specified.\n",
              "\"\"\""
            ]
          },
          "metadata": {
            "tags": []
          },
          "execution_count": 92
        }
      ]
    },
    {
      "cell_type": "code",
      "metadata": {
        "colab": {
          "base_uri": "https://localhost:8080/"
        },
        "id": "fNqVlmxl22JS",
        "outputId": "65ae8951-3d33-4f41-d1f0-d2e243bf68b2"
      },
      "source": [
        "# Checking the prediction on a test set.\n",
        "Y1_pred=results.predict(X1)\n",
        "print('R^2_test:', r2_score(Y1, Y1_pred))"
      ],
      "execution_count": null,
      "outputs": [
        {
          "output_type": "stream",
          "text": [
            "R^2_test: 0.18197233173678606\n"
          ],
          "name": "stdout"
        }
      ]
    },
    {
      "cell_type": "markdown",
      "metadata": {
        "id": "zgW4oqqE6qCc"
      },
      "source": [
        "**3. Evaluate the overall moodel, check internal validity (diagnose to see whether assumptions are met or not).**"
      ]
    },
    {
      "cell_type": "markdown",
      "metadata": {
        "id": "o9VLwnBeD3kS"
      },
      "source": [
        "**L**inearity | Rainbow Test"
      ]
    },
    {
      "cell_type": "code",
      "metadata": {
        "colab": {
          "base_uri": "https://localhost:8080/"
        },
        "id": "vNnPN_sj7lQU",
        "outputId": "f9b8c13e-e03c-4842-9158-012adb3517dc"
      },
      "source": [
        "# Our p-value is equal to 0.68, which is bigger than 0.05, meaning that\n",
        "# we don't have enough evidence to reject the linearity assumption.\n",
        "# Linearity assumption is held.\n",
        "rnames=[\"fstat\", \"p-value\"]\n",
        "rainbow_res=linear_rainbow(results)\n",
        "print(list(zip(rnames, rainbow_res)))"
      ],
      "execution_count": null,
      "outputs": [
        {
          "output_type": "stream",
          "text": [
            "[('fstat', 0.9224775487415549), ('p-value', 0.6825676727303185)]\n"
          ],
          "name": "stdout"
        }
      ]
    },
    {
      "cell_type": "markdown",
      "metadata": {
        "id": "IMzNQV12EWS4"
      },
      "source": [
        "**I**ndependence | Variance Inflation Factor (VIF)"
      ]
    },
    {
      "cell_type": "code",
      "metadata": {
        "colab": {
          "base_uri": "https://localhost:8080/"
        },
        "id": "B96loOa3EVjT",
        "outputId": "8cd8507b-cd34-49f8-eefe-bb7c3d3301c0"
      },
      "source": [
        "# Our VIF is eual to 1.297, meaning that there is a moderate correlation\n",
        "# between independent variables. We can conclude that there is no significant\n",
        "# multicollinearity problem.\n",
        "VIF = 1/(1-0.229)\n",
        "print(VIF)"
      ],
      "execution_count": null,
      "outputs": [
        {
          "output_type": "stream",
          "text": [
            "1.297016861219196\n"
          ],
          "name": "stdout"
        }
      ]
    },
    {
      "cell_type": "markdown",
      "metadata": {
        "id": "dIqSNhlNH03F"
      },
      "source": [
        "**N**ormality | Shapiro-Wilk Test"
      ]
    },
    {
      "cell_type": "code",
      "metadata": {
        "colab": {
          "base_uri": "https://localhost:8080/",
          "height": 319
        },
        "id": "eVGo4TsE8DHH",
        "outputId": "416c38fa-da36-4b42-e47d-59898f2e6393"
      },
      "source": [
        "residuals=results.resid\n",
        "sns.distplot(residuals)\n",
        "plt.show()"
      ],
      "execution_count": null,
      "outputs": [
        {
          "output_type": "stream",
          "text": [
            "/usr/local/lib/python3.7/dist-packages/seaborn/distributions.py:2557: FutureWarning: `distplot` is a deprecated function and will be removed in a future version. Please adapt your code to use either `displot` (a figure-level function with similar flexibility) or `histplot` (an axes-level function for histograms).\n",
            "  warnings.warn(msg, FutureWarning)\n"
          ],
          "name": "stderr"
        },
        {
          "output_type": "display_data",
          "data": {
            "image/png": "[encoded data removed]",
            "text/plain": [
              "<Figure size 432x288 with 1 Axes>"
            ]
          },
          "metadata": {
            "tags": [],
            "needs_background": "light"
          }
        }
      ]
    },
    {
      "cell_type": "code",
      "metadata": {
        "colab": {
          "base_uri": "https://localhost:8080/",
          "height": 279
        },
        "id": "AOqOuioD-4wl",
        "outputId": "2f3ca537-842b-420b-ff8c-38044cacce8e"
      },
      "source": [
        "qqplot(residuals,fit=True, line='45')\n",
        "plt.show()"
      ],
      "execution_count": null,
      "outputs": [
        {
          "output_type": "display_data",
          "data": {
            "image/png": "[encoded data removed]",
            "text/plain": [
              "<Figure size 432x288 with 1 Axes>"
            ]
          },
          "metadata": {
            "tags": [],
            "needs_background": "light"
          }
        }
      ]
    },
    {
      "cell_type": "code",
      "metadata": {
        "colab": {
          "base_uri": "https://localhost:8080/"
        },
        "id": "DUVfxQ-5--At",
        "outputId": "ca64fe8c-c9f7-4c76-ed53-f28145177023"
      },
      "source": [
        "# Our p-value is equal to 0.00000621, which is smaller than 0.05, meaning that\n",
        "# there is enough evidence to reject the normality assumption.\n",
        "# Normality assumption is not held.\n",
        "snames=['The test statistic', 'p-value']\n",
        "shapiro_res=shapiro(residuals)\n",
        "print(list(zip(snames, shapiro_res)))"
      ],
      "execution_count": null,
      "outputs": [
        {
          "output_type": "stream",
          "text": [
            "[('The test statistic', 0.9693987369537354), ('p-value', 6.21060735284118e-06)]\n"
          ],
          "name": "stdout"
        }
      ]
    },
    {
      "cell_type": "markdown",
      "metadata": {
        "id": "bQyJVp5NDWNz"
      },
      "source": [
        "**E**quality of Variance (Breusch-Pagan Test)\n",
        "\n"
      ]
    },
    {
      "cell_type": "code",
      "metadata": {
        "id": "UuB93gAY3WMn"
      },
      "source": [
        "residuals=results.resid\n",
        "residuals.head(10)\n",
        "pred_values=results.predict()"
      ],
      "execution_count": null,
      "outputs": []
    },
    {
      "cell_type": "code",
      "metadata": {
        "colab": {
          "base_uri": "https://localhost:8080/",
          "height": 350
        },
        "id": "FdhUV0Yd7Krl",
        "outputId": "0ad2613c-f82f-430b-9108-02d4dedc6f37"
      },
      "source": [
        "plt.figure(figsize=(10,5))\n",
        "plt.scatter(pred_values,residuals)\n",
        "plt.axhline(y=0, c=\"red\")\n",
        "plt.title(\"Residual vs Pred values\")\n",
        "plt.ylabel(\"Residuals\")\n",
        "plt.xlabel(\"Predicted values\")\n",
        "plt.show()"
      ],
      "execution_count": null,
      "outputs": [
        {
          "output_type": "display_data",
          "data": {
            "image/png": "[encoded data removed]",
            "text/plain": [
              "<Figure size 720x360 with 1 Axes>"
            ]
          },
          "metadata": {
            "tags": [],
            "needs_background": "light"
          }
        }
      ]
    },
    {
      "cell_type": "code",
      "metadata": {
        "colab": {
          "base_uri": "https://localhost:8080/"
        },
        "id": "MRMaPO8s7O0j",
        "outputId": "87abcf50-02d0-46a4-ebb9-7619abfe5fae"
      },
      "source": [
        "# Our p-value is equal to 0.085, which is bigger than 0.05, meaning that\n",
        "# we don't have enough evidence to reject the homoscedasticity assumtion.\n",
        "# Homoscedasticity assumption is held.\n",
        "bnames = ['Lagrange multiplier statistic', 'p-value',\n",
        "        'f-value', 'f p-value']\n",
        "breush = het_breuschpagan(residuals, results.model.exog)\n",
        "print(list(zip(bnames, breush)))"
      ],
      "execution_count": null,
      "outputs": [
        {
          "output_type": "stream",
          "text": [
            "[('Lagrange multiplier statistic', 30.374408175647027), ('p-value', 0.08471851982668746), ('f-value', 1.492001218522624), ('f p-value', 0.07917245433513513)]\n"
          ],
          "name": "stdout"
        }
      ]
    },
    {
      "cell_type": "markdown",
      "metadata": {
        "id": "xvk1c5d_LqmY"
      },
      "source": [
        "**4. Extend the model (using transformation, selection or shrinkage methods) to obtain a better model, if possible.**"
      ]
    },
    {
      "cell_type": "markdown",
      "metadata": {
        "id": "DGbrKngOVGWN"
      },
      "source": [
        "In order to improve the model, I used backward seletion method, by removing the most insignificant variables one by one. Even though while checking whether the distribution of variables is normal or not there were some variables having not normal distribution, transforming them into logarithm made the model worse, therefore, the prticular step was skipped. Previously, **R^2** was equal to **0.229**, whereas **adjusted R^2** was equal to **0.170**. The performance on a test was equal to **0.182**. From comparing the results of test and train (based on adjusted R^2 since it's more robust) we may conclude that there is a significant problem with underfitting, and there are a lot of non-informative variables based on the difference between R^2 and adjusted R^2."
      ]
    },
    {
      "cell_type": "code",
      "metadata": {
        "id": "roYYXgL1x4LT"
      },
      "source": [
        "# Using backward selection removing Walc, Dalc, famrel, school2, address, famsize variables one by one\n",
        "# and looking at the behavior of the model. The final model consists of the following variables.\n",
        "data2 = df[[ \"sex\", \"age\", \"Pstatus\", \"studytime\", \"failures\", \"schoolsup\", \"famsup\", \"paid\", \"higher\", \"internet\", \"romantic\", \"freetime\", \"goout\", \"health\", \"absences\", \"Final_Grade\"]]"
      ],
      "execution_count": null,
      "outputs": []
    },
    {
      "cell_type": "code",
      "metadata": {
        "id": "qP9FPXj3PW4w"
      },
      "source": [
        "data2_num = data2.select_dtypes(exclude=[\"object\"])\n",
        "data2_obj = data2.select_dtypes(include=\"object\")"
      ],
      "execution_count": null,
      "outputs": []
    },
    {
      "cell_type": "code",
      "metadata": {
        "id": "611lda7zPgzu"
      },
      "source": [
        "data2_dummies = pd.get_dummies(data2_obj, drop_first=True)\n",
        "data2_model = data2_num.join(data2_dummies, how='left')"
      ],
      "execution_count": null,
      "outputs": []
    },
    {
      "cell_type": "code",
      "metadata": {
        "colab": {
          "base_uri": "https://localhost:8080/",
          "height": 1000
        },
        "id": "aLKWsCA_6F9G",
        "outputId": "a88c36ed-0280-435d-d11b-fdf4e1792325"
      },
      "source": [
        "# Examining the value distribution of numeric features.\n",
        "for i in data2_num.columns.tolist():\n",
        "    sns.distplot(data2_num[i])\n",
        "    plt.xlabel(i)\n",
        "    plt.show()"
      ],
      "execution_count": null,
      "outputs": [
        {
          "output_type": "stream",
          "text": [
            "/usr/local/lib/python3.7/dist-packages/seaborn/distributions.py:2557: FutureWarning: `distplot` is a deprecated function and will be removed in a future version. Please adapt your code to use either `displot` (a figure-level function with similar flexibility) or `histplot` (an axes-level function for histograms).\n",
            "  warnings.warn(msg, FutureWarning)\n"
          ],
          "name": "stderr"
        },
        {
          "output_type": "display_data",
          "data": {
            "image/png": "[encoded data removed]",
            "text/plain": [
              "<Figure size 432x288 with 1 Axes>"
            ]
          },
          "metadata": {
            "tags": [],
            "needs_background": "light"
          }
        },
        {
          "output_type": "stream",
          "text": [
            "/usr/local/lib/python3.7/dist-packages/seaborn/distributions.py:2557: FutureWarning: `distplot` is a deprecated function and will be removed in a future version. Please adapt your code to use either `displot` (a figure-level function with similar flexibility) or `histplot` (an axes-level function for histograms).\n",
            "  warnings.warn(msg, FutureWarning)\n"
          ],
          "name": "stderr"
        },
        {
          "output_type": "display_data",
          "data": {
            "image/png": "[encoded data removed]",
            "text/plain": [
              "<Figure size 432x288 with 1 Axes>"
            ]
          },
          "metadata": {
            "tags": [],
            "needs_background": "light"
          }
        },
        {
          "output_type": "stream",
          "text": [
            "/usr/local/lib/python3.7/dist-packages/seaborn/distributions.py:2557: FutureWarning: `distplot` is a deprecated function and will be removed in a future version. Please adapt your code to use either `displot` (a figure-level function with similar flexibility) or `histplot` (an axes-level function for histograms).\n",
            "  warnings.warn(msg, FutureWarning)\n"
          ],
          "name": "stderr"
        },
        {
          "output_type": "display_data",
          "data": {
            "image/png": "[encoded data removed]",
            "text/plain": [
              "<Figure size 432x288 with 1 Axes>"
            ]
          },
          "metadata": {
            "tags": [],
            "needs_background": "light"
          }
        },
        {
          "output_type": "stream",
          "text": [
            "/usr/local/lib/python3.7/dist-packages/seaborn/distributions.py:2557: FutureWarning: `distplot` is a deprecated function and will be removed in a future version. Please adapt your code to use either `displot` (a figure-level function with similar flexibility) or `histplot` (an axes-level function for histograms).\n",
            "  warnings.warn(msg, FutureWarning)\n"
          ],
          "name": "stderr"
        },
        {
          "output_type": "display_data",
          "data": {
            "image/png": "[encoded data removed]",
            "text/plain": [
              "<Figure size 432x288 with 1 Axes>"
            ]
          },
          "metadata": {
            "tags": [],
            "needs_background": "light"
          }
        },
        {
          "output_type": "stream",
          "text": [
            "/usr/local/lib/python3.7/dist-packages/seaborn/distributions.py:2557: FutureWarning: `distplot` is a deprecated function and will be removed in a future version. Please adapt your code to use either `displot` (a figure-level function with similar flexibility) or `histplot` (an axes-level function for histograms).\n",
            "  warnings.warn(msg, FutureWarning)\n"
          ],
          "name": "stderr"
        },
        {
          "output_type": "display_data",
          "data": {
            "image/png": "[encoded data removed]",
            "text/plain": [
              "<Figure size 432x288 with 1 Axes>"
            ]
          },
          "metadata": {
            "tags": [],
            "needs_background": "light"
          }
        },
        {
          "output_type": "stream",
          "text": [
            "/usr/local/lib/python3.7/dist-packages/seaborn/distributions.py:2557: FutureWarning: `distplot` is a deprecated function and will be removed in a future version. Please adapt your code to use either `displot` (a figure-level function with similar flexibility) or `histplot` (an axes-level function for histograms).\n",
            "  warnings.warn(msg, FutureWarning)\n"
          ],
          "name": "stderr"
        },
        {
          "output_type": "display_data",
          "data": {
            "image/png": "[encoded data removed]",
            "text/plain": [
              "<Figure size 432x288 with 1 Axes>"
            ]
          },
          "metadata": {
            "tags": [],
            "needs_background": "light"
          }
        },
        {
          "output_type": "stream",
          "text": [
            "/usr/local/lib/python3.7/dist-packages/seaborn/distributions.py:2557: FutureWarning: `distplot` is a deprecated function and will be removed in a future version. Please adapt your code to use either `displot` (a figure-level function with similar flexibility) or `histplot` (an axes-level function for histograms).\n",
            "  warnings.warn(msg, FutureWarning)\n"
          ],
          "name": "stderr"
        },
        {
          "output_type": "display_data",
          "data": {
            "image/png": "[encoded data removed]",
            "text/plain": [
              "<Figure size 432x288 with 1 Axes>"
            ]
          },
          "metadata": {
            "tags": [],
            "needs_background": "light"
          }
        },
        {
          "output_type": "stream",
          "text": [
            "/usr/local/lib/python3.7/dist-packages/seaborn/distributions.py:2557: FutureWarning: `distplot` is a deprecated function and will be removed in a future version. Please adapt your code to use either `displot` (a figure-level function with similar flexibility) or `histplot` (an axes-level function for histograms).\n",
            "  warnings.warn(msg, FutureWarning)\n"
          ],
          "name": "stderr"
        },
        {
          "output_type": "display_data",
          "data": {
            "image/png": "[encoded data removed]",
            "text/plain": [
              "<Figure size 432x288 with 1 Axes>"
            ]
          },
          "metadata": {
            "tags": [],
            "needs_background": "light"
          }
        }
      ]
    },
    {
      "cell_type": "code",
      "metadata": {
        "id": "UZdhyY7kS3F7"
      },
      "source": [
        "# Creating interaction term from the existing variables in the dataset.\n",
        "# With the square of age, it is possible to test the quadratic relationship\n",
        "# between age and final grade. Adding this variable improved the result of R^2,\n",
        "# however, made the large overfitting. Therefore, it wasn't included in a final model.\n",
        "#data2_model[\"age_sq\"]=data2_model['age']**2"
      ],
      "execution_count": null,
      "outputs": []
    },
    {
      "cell_type": "code",
      "metadata": {
        "id": "DHVSbGrLPpau"
      },
      "source": [
        "Y = data2_model.Final_Grade\n",
        "X = data2_model.drop('Final_Grade', axis = 1)\n",
        "X = sm.add_constant(X)"
      ],
      "execution_count": null,
      "outputs": []
    },
    {
      "cell_type": "code",
      "metadata": {
        "id": "u-Ev6IwwPr_m"
      },
      "source": [
        "# Train-test split data.\n",
        "X0, X1, Y0, Y1 = train_test_split(X, Y, test_size=0.25, random_state=42)"
      ],
      "execution_count": null,
      "outputs": []
    },
    {
      "cell_type": "code",
      "metadata": {
        "colab": {
          "base_uri": "https://localhost:8080/",
          "height": 738
        },
        "id": "YwtwQPGXPw3_",
        "outputId": "3c0df5b5-7147-436d-aa12-5b930b403244"
      },
      "source": [
        "# Running thee 2nd linear model.\n",
        "model_linear2 = sm.OLS(Y0, X0)\n",
        "results = model_linear2.fit()\n",
        "results.summary()"
      ],
      "execution_count": null,
      "outputs": [
        {
          "output_type": "execute_result",
          "data": {
            "text/html": [
              "<table class=\"simpletable\">\n",
              "<caption>OLS Regression Results</caption>\n",
              "<tr>\n",
              "  <th>Dep. Variable:</th>       <td>Final_Grade</td>   <th>  R-squared:         </th> <td>   0.221</td>\n",
              "</tr>\n",
              "<tr>\n",
              "  <th>Model:</th>                   <td>OLS</td>       <th>  Adj. R-squared:    </th> <td>   0.179</td>\n",
              "</tr>\n",
              "<tr>\n",
              "  <th>Method:</th>             <td>Least Squares</td>  <th>  F-statistic:       </th> <td>   5.295</td>\n",
              "</tr>\n",
              "<tr>\n",
              "  <th>Date:</th>             <td>Tue, 16 Mar 2021</td> <th>  Prob (F-statistic):</th> <td>2.40e-09</td>\n",
              "</tr>\n",
              "<tr>\n",
              "  <th>Time:</th>                 <td>14:19:54</td>     <th>  Log-Likelihood:    </th> <td> -828.11</td>\n",
              "</tr>\n",
              "<tr>\n",
              "  <th>No. Observations:</th>      <td>   296</td>      <th>  AIC:               </th> <td>   1688.</td>\n",
              "</tr>\n",
              "<tr>\n",
              "  <th>Df Residuals:</th>          <td>   280</td>      <th>  BIC:               </th> <td>   1747.</td>\n",
              "</tr>\n",
              "<tr>\n",
              "  <th>Df Model:</th>              <td>    15</td>      <th>                     </th>     <td> </td>   \n",
              "</tr>\n",
              "<tr>\n",
              "  <th>Covariance Type:</th>      <td>nonrobust</td>    <th>                     </th>     <td> </td>   \n",
              "</tr>\n",
              "</table>\n",
              "<table class=\"simpletable\">\n",
              "<tr>\n",
              "        <td></td>           <th>coef</th>     <th>std err</th>      <th>t</th>      <th>P>|t|</th>  <th>[0.025</th>    <th>0.975]</th>  \n",
              "</tr>\n",
              "<tr>\n",
              "  <th>const</th>         <td>   13.9256</td> <td>    4.108</td> <td>    3.390</td> <td> 0.001</td> <td>    5.839</td> <td>   22.012</td>\n",
              "</tr>\n",
              "<tr>\n",
              "  <th>age</th>           <td>   -0.2919</td> <td>    0.212</td> <td>   -1.379</td> <td> 0.169</td> <td>   -0.709</td> <td>    0.125</td>\n",
              "</tr>\n",
              "<tr>\n",
              "  <th>studytime</th>     <td>    0.5718</td> <td>    0.314</td> <td>    1.821</td> <td> 0.070</td> <td>   -0.046</td> <td>    1.190</td>\n",
              "</tr>\n",
              "<tr>\n",
              "  <th>failures</th>      <td>   -1.6675</td> <td>    0.354</td> <td>   -4.715</td> <td> 0.000</td> <td>   -2.364</td> <td>   -0.971</td>\n",
              "</tr>\n",
              "<tr>\n",
              "  <th>freetime</th>      <td>    0.2181</td> <td>    0.254</td> <td>    0.857</td> <td> 0.392</td> <td>   -0.283</td> <td>    0.719</td>\n",
              "</tr>\n",
              "<tr>\n",
              "  <th>goout</th>         <td>   -0.4520</td> <td>    0.228</td> <td>   -1.984</td> <td> 0.048</td> <td>   -0.900</td> <td>   -0.003</td>\n",
              "</tr>\n",
              "<tr>\n",
              "  <th>health</th>        <td>   -0.1425</td> <td>    0.174</td> <td>   -0.820</td> <td> 0.413</td> <td>   -0.484</td> <td>    0.199</td>\n",
              "</tr>\n",
              "<tr>\n",
              "  <th>absences</th>      <td>    0.0541</td> <td>    0.029</td> <td>    1.838</td> <td> 0.067</td> <td>   -0.004</td> <td>    0.112</td>\n",
              "</tr>\n",
              "<tr>\n",
              "  <th>sex_M</th>         <td>    1.0937</td> <td>    0.538</td> <td>    2.033</td> <td> 0.043</td> <td>    0.035</td> <td>    2.153</td>\n",
              "</tr>\n",
              "<tr>\n",
              "  <th>Pstatus_T</th>     <td>   -0.8936</td> <td>    0.807</td> <td>   -1.107</td> <td> 0.269</td> <td>   -2.483</td> <td>    0.696</td>\n",
              "</tr>\n",
              "<tr>\n",
              "  <th>schoolsup_yes</th> <td>   -0.9702</td> <td>    0.717</td> <td>   -1.353</td> <td> 0.177</td> <td>   -2.382</td> <td>    0.442</td>\n",
              "</tr>\n",
              "<tr>\n",
              "  <th>famsup_yes</th>    <td>   -1.0991</td> <td>    0.523</td> <td>   -2.102</td> <td> 0.036</td> <td>   -2.129</td> <td>   -0.070</td>\n",
              "</tr>\n",
              "<tr>\n",
              "  <th>paid_yes</th>      <td>    0.9799</td> <td>    0.523</td> <td>    1.874</td> <td> 0.062</td> <td>   -0.049</td> <td>    2.009</td>\n",
              "</tr>\n",
              "<tr>\n",
              "  <th>higher_yes</th>    <td>    2.0213</td> <td>    1.108</td> <td>    1.824</td> <td> 0.069</td> <td>   -0.161</td> <td>    4.203</td>\n",
              "</tr>\n",
              "<tr>\n",
              "  <th>internet_yes</th>  <td>    0.7995</td> <td>    0.674</td> <td>    1.185</td> <td> 0.237</td> <td>   -0.528</td> <td>    2.127</td>\n",
              "</tr>\n",
              "<tr>\n",
              "  <th>romantic_yes</th>  <td>   -0.7866</td> <td>    0.521</td> <td>   -1.510</td> <td> 0.132</td> <td>   -1.812</td> <td>    0.239</td>\n",
              "</tr>\n",
              "</table>\n",
              "<table class=\"simpletable\">\n",
              "<tr>\n",
              "  <th>Omnibus:</th>       <td>23.372</td> <th>  Durbin-Watson:     </th> <td>   1.931</td>\n",
              "</tr>\n",
              "<tr>\n",
              "  <th>Prob(Omnibus):</th> <td> 0.000</td> <th>  Jarque-Bera (JB):  </th> <td>  26.869</td>\n",
              "</tr>\n",
              "<tr>\n",
              "  <th>Skew:</th>          <td>-0.669</td> <th>  Prob(JB):          </th> <td>1.46e-06</td>\n",
              "</tr>\n",
              "<tr>\n",
              "  <th>Kurtosis:</th>      <td> 3.623</td> <th>  Cond. No.          </th> <td>    335.</td>\n",
              "</tr>\n",
              "</table><br/><br/>Warnings:<br/>[1] Standard Errors assume that the covariance matrix of the errors is correctly specified."
            ],
            "text/plain": [
              "<class 'statsmodels.iolib.summary.Summary'>\n",
              "\"\"\"\n",
              "                            OLS Regression Results                            \n",
              "==============================================================================\n",
              "Dep. Variable:            Final_Grade   R-squared:                       0.221\n",
              "Model:                            OLS   Adj. R-squared:                  0.179\n",
              "Method:                 Least Squares   F-statistic:                     5.295\n",
              "Date:                Tue, 16 Mar 2021   Prob (F-statistic):           2.40e-09\n",
              "Time:                        14:19:54   Log-Likelihood:                -828.11\n",
              "No. Observations:                 296   AIC:                             1688.\n",
              "Df Residuals:                     280   BIC:                             1747.\n",
              "Df Model:                          15                                         \n",
              "Covariance Type:            nonrobust                                         \n",
              "=================================================================================\n",
              "                    coef    std err          t      P>|t|      [0.025      0.975]\n",
              "---------------------------------------------------------------------------------\n",
              "const            13.9256      4.108      3.390      0.001       5.839      22.012\n",
              "age              -0.2919      0.212     -1.379      0.169      -0.709       0.125\n",
              "studytime         0.5718      0.314      1.821      0.070      -0.046       1.190\n",
              "failures         -1.6675      0.354     -4.715      0.000      -2.364      -0.971\n",
              "freetime          0.2181      0.254      0.857      0.392      -0.283       0.719\n",
              "goout            -0.4520      0.228     -1.984      0.048      -0.900      -0.003\n",
              "health           -0.1425      0.174     -0.820      0.413      -0.484       0.199\n",
              "absences          0.0541      0.029      1.838      0.067      -0.004       0.112\n",
              "sex_M             1.0937      0.538      2.033      0.043       0.035       2.153\n",
              "Pstatus_T        -0.8936      0.807     -1.107      0.269      -2.483       0.696\n",
              "schoolsup_yes    -0.9702      0.717     -1.353      0.177      -2.382       0.442\n",
              "famsup_yes       -1.0991      0.523     -2.102      0.036      -2.129      -0.070\n",
              "paid_yes          0.9799      0.523      1.874      0.062      -0.049       2.009\n",
              "higher_yes        2.0213      1.108      1.824      0.069      -0.161       4.203\n",
              "internet_yes      0.7995      0.674      1.185      0.237      -0.528       2.127\n",
              "romantic_yes     -0.7866      0.521     -1.510      0.132      -1.812       0.239\n",
              "==============================================================================\n",
              "Omnibus:                       23.372   Durbin-Watson:                   1.931\n",
              "Prob(Omnibus):                  0.000   Jarque-Bera (JB):               26.869\n",
              "Skew:                          -0.669   Prob(JB):                     1.46e-06\n",
              "Kurtosis:                       3.623   Cond. No.                         335.\n",
              "==============================================================================\n",
              "\n",
              "Warnings:\n",
              "[1] Standard Errors assume that the covariance matrix of the errors is correctly specified.\n",
              "\"\"\""
            ]
          },
          "metadata": {
            "tags": []
          },
          "execution_count": 132
        }
      ]
    },
    {
      "cell_type": "code",
      "metadata": {
        "colab": {
          "base_uri": "https://localhost:8080/"
        },
        "id": "bjRsYn9AP5EU",
        "outputId": "7fdbff4b-c110-4ee4-d7a5-db4e809924a4"
      },
      "source": [
        "# Checking the prediction on a test set.\n",
        "Y1_pred=results.predict(X1)\n",
        "print('R^2_test:', r2_score(Y1, Y1_pred))"
      ],
      "execution_count": null,
      "outputs": [
        {
          "output_type": "stream",
          "text": [
            "R^2_test: 0.17310854236409012\n"
          ],
          "name": "stdout"
        }
      ]
    },
    {
      "cell_type": "markdown",
      "metadata": {
        "id": "OeET07CogGJL"
      },
      "source": [
        "\n",
        "\n",
        "```\n",
        "# This is formatted as code\n",
        "```\n",
        "\n",
        "**Shrinkage Methods**"
      ]
    },
    {
      "cell_type": "code",
      "metadata": {
        "colab": {
          "base_uri": "https://localhost:8080/"
        },
        "id": "WSRZGH8GYS3S",
        "outputId": "b453867b-ff86-43ca-9ecb-e2d7ee63163c"
      },
      "source": [
        "# Ridge (L2 term)\n",
        "model_linear3 = sm.OLS(Y0,X0)\n",
        "results_ridge = model_linear3.fit_regularized(L1_wt=0,alpha=0.0001)\n",
        "# Checking coefficients.\n",
        "results_ridge.params"
      ],
      "execution_count": null,
      "outputs": [
        {
          "output_type": "execute_result",
          "data": {
            "text/plain": [
              "array([13.52498182, -0.27345815,  0.57430993, -1.67049643,  0.2213718 ,\n",
              "       -0.45134778, -0.13834211,  0.05397118,  1.0984663 , -0.88255749,\n",
              "       -0.95191269, -1.09268388,  0.97704447,  2.05677082,  0.81200857,\n",
              "       -0.78936181])"
            ]
          },
          "metadata": {
            "tags": []
          },
          "execution_count": 137
        }
      ]
    },
    {
      "cell_type": "code",
      "metadata": {
        "colab": {
          "base_uri": "https://localhost:8080/"
        },
        "id": "rJW1638paxK5",
        "outputId": "55f74ca4-5a26-4ddf-8b83-bcf55665c8ea"
      },
      "source": [
        "# As it was expected, the preformance of a model wasn't improved, since there was almost\n",
        "# no overfitting in second model while comparing test and train (adjusted R^2).\n",
        "Y0_pred = results_ridge.predict(X0)\n",
        "Y1_pred = results_ridge.predict(X1)\n",
        "print('R^2_train',r2_score(Y0,Y0_pred))\n",
        "print('R^2_test',r2_score(Y1,Y1_pred))"
      ],
      "execution_count": null,
      "outputs": [
        {
          "output_type": "stream",
          "text": [
            "R^2_train 0.22096407048457622\n",
            "R^2_test 0.17269352038694485\n"
          ],
          "name": "stdout"
        }
      ]
    },
    {
      "cell_type": "code",
      "metadata": {
        "colab": {
          "base_uri": "https://localhost:8080/"
        },
        "id": "Db0iWda4bFgK",
        "outputId": "4c18fed6-41c2-43b0-fcd4-918b74268b3d"
      },
      "source": [
        "# Lasso (L2 term)\n",
        "results_lasso = model_linear3.fit_regularized(L1_wt=1,alpha=0.01)\n",
        "# Checking coeffisients.\n",
        "results_lasso.params"
      ],
      "execution_count": null,
      "outputs": [
        {
          "output_type": "execute_result",
          "data": {
            "text/plain": [
              "const            8.843851\n",
              "age             -0.033871\n",
              "studytime        0.582876\n",
              "failures        -1.723390\n",
              "freetime         0.249579\n",
              "goout           -0.444678\n",
              "health          -0.099466\n",
              "absences         0.050294\n",
              "sex_M            1.095431\n",
              "Pstatus_T       -0.757963\n",
              "schoolsup_yes   -0.655783\n",
              "famsup_yes      -0.983184\n",
              "paid_yes         0.908709\n",
              "higher_yes       2.254056\n",
              "internet_yes     0.885385\n",
              "romantic_yes    -0.798931\n",
              "dtype: float64"
            ]
          },
          "metadata": {
            "tags": []
          },
          "execution_count": 144
        }
      ]
    },
    {
      "cell_type": "code",
      "metadata": {
        "colab": {
          "base_uri": "https://localhost:8080/"
        },
        "id": "udUbex1Sbxx7",
        "outputId": "dcb60e8c-ba89-4cab-a654-8d16e497cf14"
      },
      "source": [
        "# The preformance of a model became even worse.\n",
        "Y0_pred_ls = results_lasso.predict(X0)\n",
        "Y1_pred_ls = results_lasso.predict(X1)\n",
        "print('R^2_train',r2_score(Y0,Y0_pred_ls))\n",
        "print('R^2_test',r2_score(Y1,Y1_pred_ls))"
      ],
      "execution_count": null,
      "outputs": [
        {
          "output_type": "stream",
          "text": [
            "R^2_train 0.2162774640255235\n",
            "R^2_test 0.16544744362815011\n"
          ],
          "name": "stdout"
        }
      ]
    },
    {
      "cell_type": "code",
      "metadata": {
        "colab": {
          "base_uri": "https://localhost:8080/",
          "height": 738
        },
        "id": "pe46XmtsiWUB",
        "outputId": "54e31997-99b4-4a63-f657-19cc06aa0bdc"
      },
      "source": [
        "# Extended model using backward selection performed the best, therefore,\n",
        "# this model will be diagnosed.\n",
        "Y = data2_model.Final_Grade\n",
        "X = data2_model.drop('Final_Grade', axis = 1)\n",
        "X = sm.add_constant(X)\n",
        "X0, X1, Y0, Y1 = train_test_split(X, Y, test_size=0.25, random_state=42)\n",
        "model_linear2 = sm.OLS(Y0, X0)\n",
        "results = model_linear2.fit()\n",
        "results.summary()"
      ],
      "execution_count": null,
      "outputs": [
        {
          "output_type": "execute_result",
          "data": {
            "text/html": [
              "<table class=\"simpletable\">\n",
              "<caption>OLS Regression Results</caption>\n",
              "<tr>\n",
              "  <th>Dep. Variable:</th>       <td>Final_Grade</td>   <th>  R-squared:         </th> <td>   0.221</td>\n",
              "</tr>\n",
              "<tr>\n",
              "  <th>Model:</th>                   <td>OLS</td>       <th>  Adj. R-squared:    </th> <td>   0.179</td>\n",
              "</tr>\n",
              "<tr>\n",
              "  <th>Method:</th>             <td>Least Squares</td>  <th>  F-statistic:       </th> <td>   5.295</td>\n",
              "</tr>\n",
              "<tr>\n",
              "  <th>Date:</th>             <td>Tue, 16 Mar 2021</td> <th>  Prob (F-statistic):</th> <td>2.40e-09</td>\n",
              "</tr>\n",
              "<tr>\n",
              "  <th>Time:</th>                 <td>14:58:09</td>     <th>  Log-Likelihood:    </th> <td> -828.11</td>\n",
              "</tr>\n",
              "<tr>\n",
              "  <th>No. Observations:</th>      <td>   296</td>      <th>  AIC:               </th> <td>   1688.</td>\n",
              "</tr>\n",
              "<tr>\n",
              "  <th>Df Residuals:</th>          <td>   280</td>      <th>  BIC:               </th> <td>   1747.</td>\n",
              "</tr>\n",
              "<tr>\n",
              "  <th>Df Model:</th>              <td>    15</td>      <th>                     </th>     <td> </td>   \n",
              "</tr>\n",
              "<tr>\n",
              "  <th>Covariance Type:</th>      <td>nonrobust</td>    <th>                     </th>     <td> </td>   \n",
              "</tr>\n",
              "</table>\n",
              "<table class=\"simpletable\">\n",
              "<tr>\n",
              "        <td></td>           <th>coef</th>     <th>std err</th>      <th>t</th>      <th>P>|t|</th>  <th>[0.025</th>    <th>0.975]</th>  \n",
              "</tr>\n",
              "<tr>\n",
              "  <th>const</th>         <td>   13.9256</td> <td>    4.108</td> <td>    3.390</td> <td> 0.001</td> <td>    5.839</td> <td>   22.012</td>\n",
              "</tr>\n",
              "<tr>\n",
              "  <th>age</th>           <td>   -0.2919</td> <td>    0.212</td> <td>   -1.379</td> <td> 0.169</td> <td>   -0.709</td> <td>    0.125</td>\n",
              "</tr>\n",
              "<tr>\n",
              "  <th>studytime</th>     <td>    0.5718</td> <td>    0.314</td> <td>    1.821</td> <td> 0.070</td> <td>   -0.046</td> <td>    1.190</td>\n",
              "</tr>\n",
              "<tr>\n",
              "  <th>failures</th>      <td>   -1.6675</td> <td>    0.354</td> <td>   -4.715</td> <td> 0.000</td> <td>   -2.364</td> <td>   -0.971</td>\n",
              "</tr>\n",
              "<tr>\n",
              "  <th>freetime</th>      <td>    0.2181</td> <td>    0.254</td> <td>    0.857</td> <td> 0.392</td> <td>   -0.283</td> <td>    0.719</td>\n",
              "</tr>\n",
              "<tr>\n",
              "  <th>goout</th>         <td>   -0.4520</td> <td>    0.228</td> <td>   -1.984</td> <td> 0.048</td> <td>   -0.900</td> <td>   -0.003</td>\n",
              "</tr>\n",
              "<tr>\n",
              "  <th>health</th>        <td>   -0.1425</td> <td>    0.174</td> <td>   -0.820</td> <td> 0.413</td> <td>   -0.484</td> <td>    0.199</td>\n",
              "</tr>\n",
              "<tr>\n",
              "  <th>absences</th>      <td>    0.0541</td> <td>    0.029</td> <td>    1.838</td> <td> 0.067</td> <td>   -0.004</td> <td>    0.112</td>\n",
              "</tr>\n",
              "<tr>\n",
              "  <th>sex_M</th>         <td>    1.0937</td> <td>    0.538</td> <td>    2.033</td> <td> 0.043</td> <td>    0.035</td> <td>    2.153</td>\n",
              "</tr>\n",
              "<tr>\n",
              "  <th>Pstatus_T</th>     <td>   -0.8936</td> <td>    0.807</td> <td>   -1.107</td> <td> 0.269</td> <td>   -2.483</td> <td>    0.696</td>\n",
              "</tr>\n",
              "<tr>\n",
              "  <th>schoolsup_yes</th> <td>   -0.9702</td> <td>    0.717</td> <td>   -1.353</td> <td> 0.177</td> <td>   -2.382</td> <td>    0.442</td>\n",
              "</tr>\n",
              "<tr>\n",
              "  <th>famsup_yes</th>    <td>   -1.0991</td> <td>    0.523</td> <td>   -2.102</td> <td> 0.036</td> <td>   -2.129</td> <td>   -0.070</td>\n",
              "</tr>\n",
              "<tr>\n",
              "  <th>paid_yes</th>      <td>    0.9799</td> <td>    0.523</td> <td>    1.874</td> <td> 0.062</td> <td>   -0.049</td> <td>    2.009</td>\n",
              "</tr>\n",
              "<tr>\n",
              "  <th>higher_yes</th>    <td>    2.0213</td> <td>    1.108</td> <td>    1.824</td> <td> 0.069</td> <td>   -0.161</td> <td>    4.203</td>\n",
              "</tr>\n",
              "<tr>\n",
              "  <th>internet_yes</th>  <td>    0.7995</td> <td>    0.674</td> <td>    1.185</td> <td> 0.237</td> <td>   -0.528</td> <td>    2.127</td>\n",
              "</tr>\n",
              "<tr>\n",
              "  <th>romantic_yes</th>  <td>   -0.7866</td> <td>    0.521</td> <td>   -1.510</td> <td> 0.132</td> <td>   -1.812</td> <td>    0.239</td>\n",
              "</tr>\n",
              "</table>\n",
              "<table class=\"simpletable\">\n",
              "<tr>\n",
              "  <th>Omnibus:</th>       <td>23.372</td> <th>  Durbin-Watson:     </th> <td>   1.931</td>\n",
              "</tr>\n",
              "<tr>\n",
              "  <th>Prob(Omnibus):</th> <td> 0.000</td> <th>  Jarque-Bera (JB):  </th> <td>  26.869</td>\n",
              "</tr>\n",
              "<tr>\n",
              "  <th>Skew:</th>          <td>-0.669</td> <th>  Prob(JB):          </th> <td>1.46e-06</td>\n",
              "</tr>\n",
              "<tr>\n",
              "  <th>Kurtosis:</th>      <td> 3.623</td> <th>  Cond. No.          </th> <td>    335.</td>\n",
              "</tr>\n",
              "</table><br/><br/>Warnings:<br/>[1] Standard Errors assume that the covariance matrix of the errors is correctly specified."
            ],
            "text/plain": [
              "<class 'statsmodels.iolib.summary.Summary'>\n",
              "\"\"\"\n",
              "                            OLS Regression Results                            \n",
              "==============================================================================\n",
              "Dep. Variable:            Final_Grade   R-squared:                       0.221\n",
              "Model:                            OLS   Adj. R-squared:                  0.179\n",
              "Method:                 Least Squares   F-statistic:                     5.295\n",
              "Date:                Tue, 16 Mar 2021   Prob (F-statistic):           2.40e-09\n",
              "Time:                        14:58:09   Log-Likelihood:                -828.11\n",
              "No. Observations:                 296   AIC:                             1688.\n",
              "Df Residuals:                     280   BIC:                             1747.\n",
              "Df Model:                          15                                         \n",
              "Covariance Type:            nonrobust                                         \n",
              "=================================================================================\n",
              "                    coef    std err          t      P>|t|      [0.025      0.975]\n",
              "---------------------------------------------------------------------------------\n",
              "const            13.9256      4.108      3.390      0.001       5.839      22.012\n",
              "age              -0.2919      0.212     -1.379      0.169      -0.709       0.125\n",
              "studytime         0.5718      0.314      1.821      0.070      -0.046       1.190\n",
              "failures         -1.6675      0.354     -4.715      0.000      -2.364      -0.971\n",
              "freetime          0.2181      0.254      0.857      0.392      -0.283       0.719\n",
              "goout            -0.4520      0.228     -1.984      0.048      -0.900      -0.003\n",
              "health           -0.1425      0.174     -0.820      0.413      -0.484       0.199\n",
              "absences          0.0541      0.029      1.838      0.067      -0.004       0.112\n",
              "sex_M             1.0937      0.538      2.033      0.043       0.035       2.153\n",
              "Pstatus_T        -0.8936      0.807     -1.107      0.269      -2.483       0.696\n",
              "schoolsup_yes    -0.9702      0.717     -1.353      0.177      -2.382       0.442\n",
              "famsup_yes       -1.0991      0.523     -2.102      0.036      -2.129      -0.070\n",
              "paid_yes          0.9799      0.523      1.874      0.062      -0.049       2.009\n",
              "higher_yes        2.0213      1.108      1.824      0.069      -0.161       4.203\n",
              "internet_yes      0.7995      0.674      1.185      0.237      -0.528       2.127\n",
              "romantic_yes     -0.7866      0.521     -1.510      0.132      -1.812       0.239\n",
              "==============================================================================\n",
              "Omnibus:                       23.372   Durbin-Watson:                   1.931\n",
              "Prob(Omnibus):                  0.000   Jarque-Bera (JB):               26.869\n",
              "Skew:                          -0.669   Prob(JB):                     1.46e-06\n",
              "Kurtosis:                       3.623   Cond. No.                         335.\n",
              "==============================================================================\n",
              "\n",
              "Warnings:\n",
              "[1] Standard Errors assume that the covariance matrix of the errors is correctly specified.\n",
              "\"\"\""
            ]
          },
          "metadata": {
            "tags": []
          },
          "execution_count": 148
        }
      ]
    },
    {
      "cell_type": "code",
      "metadata": {
        "colab": {
          "base_uri": "https://localhost:8080/"
        },
        "id": "V73zoP28i2q6",
        "outputId": "0f079464-d2cd-4feb-8bdc-451d2aa4cb1f"
      },
      "source": [
        "Y1_pred=results.predict(X1)\n",
        "print('R^2_test:', r2_score(Y1, Y1_pred))"
      ],
      "execution_count": null,
      "outputs": [
        {
          "output_type": "stream",
          "text": [
            "R^2_test: 0.17310854236409012\n"
          ],
          "name": "stdout"
        }
      ]
    },
    {
      "cell_type": "markdown",
      "metadata": {
        "id": "5Kvwp-XZZFyV"
      },
      "source": [
        "**L**inearity | Rainbow Test"
      ]
    },
    {
      "cell_type": "code",
      "metadata": {
        "colab": {
          "base_uri": "https://localhost:8080/"
        },
        "id": "ekG7F4cRY1LQ",
        "outputId": "6d58146c-c5f2-44ea-dea9-7c50ba0cd1e3"
      },
      "source": [
        "# Our p-value is equal to 0.58, which is bigger than 0.05, meaning that\n",
        "# we don't have enough evidence to reject the linearity assumption.\n",
        "# Linearity assumption is held.\n",
        "rnames=[\"fstat\", \"p-value\"]\n",
        "rainbow_res=linear_rainbow(results)\n",
        "print(list(zip(rnames, rainbow_res)))"
      ],
      "execution_count": null,
      "outputs": [
        {
          "output_type": "stream",
          "text": [
            "[('fstat', 0.9671829729304686), ('p-value', 0.5792663148192143)]\n"
          ],
          "name": "stdout"
        }
      ]
    },
    {
      "cell_type": "markdown",
      "metadata": {
        "id": "MZ0tFYFRZP_Q"
      },
      "source": [
        "**I**ndependence | Variance Inflation Factor (VIF)"
      ]
    },
    {
      "cell_type": "code",
      "metadata": {
        "colab": {
          "base_uri": "https://localhost:8080/"
        },
        "id": "gZTVviM8ZMkf",
        "outputId": "a519eb1f-07f8-49e5-b960-baf6dd45f0b1"
      },
      "source": [
        "# Our VIF is eual to 1.28, meaning that there is a moderate correlation\n",
        "# between independent variables. We can conclude that there is no significant\n",
        "# multicollinearity problem.\n",
        "VIF = 1/(1-0.221)\n",
        "print(VIF)"
      ],
      "execution_count": null,
      "outputs": [
        {
          "output_type": "stream",
          "text": [
            "1.2836970474967908\n"
          ],
          "name": "stdout"
        }
      ]
    },
    {
      "cell_type": "markdown",
      "metadata": {
        "id": "nMHwOyiSZm2z"
      },
      "source": [
        "**N**ormality | Shapiro-Wilk Test"
      ]
    },
    {
      "cell_type": "code",
      "metadata": {
        "colab": {
          "base_uri": "https://localhost:8080/",
          "height": 319
        },
        "id": "oTSTU9cjZfMa",
        "outputId": "0e23a3ef-c733-4a62-c660-a143220c897d"
      },
      "source": [
        "residuals=results.resid\n",
        "sns.distplot(residuals)\n",
        "plt.show()"
      ],
      "execution_count": null,
      "outputs": [
        {
          "output_type": "stream",
          "text": [
            "/usr/local/lib/python3.7/dist-packages/seaborn/distributions.py:2557: FutureWarning: `distplot` is a deprecated function and will be removed in a future version. Please adapt your code to use either `displot` (a figure-level function with similar flexibility) or `histplot` (an axes-level function for histograms).\n",
            "  warnings.warn(msg, FutureWarning)\n"
          ],
          "name": "stderr"
        },
        {
          "output_type": "display_data",
          "data": {
            "image/png": "[encoded data removed]",
            "text/plain": [
              "<Figure size 432x288 with 1 Axes>"
            ]
          },
          "metadata": {
            "tags": [],
            "needs_background": "light"
          }
        }
      ]
    },
    {
      "cell_type": "code",
      "metadata": {
        "colab": {
          "base_uri": "https://localhost:8080/",
          "height": 279
        },
        "id": "sgvk_dHuZz-u",
        "outputId": "201fc295-0c2c-4521-ff28-efceec10c6a1"
      },
      "source": [
        "qqplot(residuals,fit=True, line='45')\n",
        "plt.show()"
      ],
      "execution_count": null,
      "outputs": [
        {
          "output_type": "display_data",
          "data": {
            "image/png": "[encoded data removed]",
            "text/plain": [
              "<Figure size 432x288 with 1 Axes>"
            ]
          },
          "metadata": {
            "tags": [],
            "needs_background": "light"
          }
        }
      ]
    },
    {
      "cell_type": "code",
      "metadata": {
        "id": "gF8PYg1jZ-SW"
      },
      "source": [
        "residuals=results.resid\n",
        "residuals.head(10)\n",
        "pred_values=results.predict()"
      ],
      "execution_count": null,
      "outputs": []
    },
    {
      "cell_type": "code",
      "metadata": {
        "colab": {
          "base_uri": "https://localhost:8080/"
        },
        "id": "1yIU_d_0Z4-T",
        "outputId": "95bf9f85-5422-4eb6-eae0-0606ea60ad29"
      },
      "source": [
        "# Our p-value is equal to 0.00000259, which is smaller than 0.05, meaning that\n",
        "# there is enough evidence to reject the normality assumption.\n",
        "# Normality assumption is not held.\n",
        "snames=['The test statistic', 'p-value']\n",
        "shapiro_res=shapiro(residuals)\n",
        "print(list(zip(snames, shapiro_res)))"
      ],
      "execution_count": null,
      "outputs": [
        {
          "output_type": "stream",
          "text": [
            "[('The test statistic', 0.9668574333190918), ('p-value', 2.591973952803528e-06)]\n"
          ],
          "name": "stdout"
        }
      ]
    },
    {
      "cell_type": "markdown",
      "metadata": {
        "id": "_cpWCQJqxPYG"
      },
      "source": [
        "**E**quality of Variance (Breusch-Pagan Test)"
      ]
    },
    {
      "cell_type": "code",
      "metadata": {
        "colab": {
          "base_uri": "https://localhost:8080/",
          "height": 350
        },
        "id": "7A-YZ_n1bBsw",
        "outputId": "f373f2af-a2c0-4ea3-fc3e-5ad9a525c5f2"
      },
      "source": [
        "plt.figure(figsize=(10,5))\n",
        "plt.scatter(pred_values,residuals)\n",
        "plt.axhline(y=0, c=\"red\")\n",
        "plt.title(\"Residual vs Pred values\")\n",
        "plt.ylabel(\"Residuals\")\n",
        "plt.xlabel(\"Predicted values\")\n",
        "plt.show()"
      ],
      "execution_count": null,
      "outputs": [
        {
          "output_type": "display_data",
          "data": {
            "image/png": "[encoded data removed]",
            "text/plain": [
              "<Figure size 720x360 with 1 Axes>"
            ]
          },
          "metadata": {
            "tags": [],
            "needs_background": "light"
          }
        }
      ]
    },
    {
      "cell_type": "code",
      "metadata": {
        "colab": {
          "base_uri": "https://localhost:8080/"
        },
        "id": "Op132iIrbFkq",
        "outputId": "18b26bb7-e0eb-47a8-ba01-c89e7847ffbc"
      },
      "source": [
        "# Our p-value is equal to 0.026, which is bigger than 0.05, meaning that\n",
        "# we have enough evidence to reject the homoscedasticity assumtion.\n",
        "# Homoscedasticity assumption is not held.\n",
        "bnames = ['Lagrange multiplier statistic', 'p-value',\n",
        "        'f-value', 'f p-value']\n",
        "breush = het_breuschpagan(residuals, results.model.exog)\n",
        "print(list(zip(bnames, breush)))"
      ],
      "execution_count": null,
      "outputs": [
        {
          "output_type": "stream",
          "text": [
            "[('Lagrange multiplier statistic', 27.330057404734823), ('p-value', 0.026159415590318657), ('f-value', 1.8988393961269296), ('f p-value', 0.02320932286432042)]\n"
          ],
          "name": "stdout"
        }
      ]
    },
    {
      "cell_type": "markdown",
      "metadata": {
        "id": "5z8tiaPGjlcj"
      },
      "source": [
        "**5. Select the model which performs better on the test and/or passes diagnostics best.**"
      ]
    },
    {
      "cell_type": "markdown",
      "metadata": {
        "id": "sF3QYlZhkG5P"
      },
      "source": [
        "As it was mentioned previously, the initial model had a problem of underfitting and precense of non-informative variables. Backward selection helped to fight these problems. With **model_linear2**, the difference between test and train (based on **adjusted R^2** since it's more robust) is only **0.006**, meaning that the problem with under/overfitting was eliminated. I would like to highlight that there are still some variables that are not significant according to their p-values, however, after removing them the model was getting worse, that's why they were keeped. The difference between **R^2** and **adjusted R^2** is equal to **0.042**, which is less in comparison to the initial model **(0.059)**, meaning that now we have more or less more of informative variables."
      ]
    },
    {
      "cell_type": "markdown",
      "metadata": {
        "id": "8P6JE3eVkL2z"
      },
      "source": [
        "**6. Interpret the results obtained from the final model.**"
      ]
    },
    {
      "cell_type": "markdown",
      "metadata": {
        "id": "Sq49IK0oqgyS"
      },
      "source": [
        "- R^2 and F-statistics: As Prob (F-statistic) shows our model is statistically significant at **5% (even 1%)** significance level, so there is at least one estimated coefficient (besides intercept) that is not null. R^2 shows that 22% of variance in final grade is explained by the variables included in the model. This is not the best result, but this is something that could be obtained using the data we had.\n",
        "\n",
        "- **Adjusted R^2** is not exactly the same as **R^2 (18%)**, which means that there are still some variables that are not that infomrative.\n",
        "\n",
        "- *failures* (0.000), *goout* (0.048), *sex* (0.043), and *famsup_yes* (0.036) are the most significant variables, since their p-values are less than 0.05.\n",
        "\n",
        "- For each unit decrease in *failures* we will experience on average about **1.6675** unit increase in final grade, which is logical, since the less failures you have, the better fianal grade can be.\n",
        "\n",
        "- For each unit decrease in *goout* we will experience on average about **0.4520** unit increase in final grade. It can be explained by the fact that the less we go out with frinds, the more we study and get better final grade.\n",
        "\n",
        "- The reference category for *sex* is 'female,' meaning that if a student's gender is male rather than female, on average, **1.0937** unit increase is expected in final grade.\n",
        "\n",
        "- The reference category for *famsup* is 'no,' meaning that if a student has a family support, relatively to the ones who do not, on average, **0.036** unit decrease is expected in final grade.\n"
      ]
    }
  ]
}